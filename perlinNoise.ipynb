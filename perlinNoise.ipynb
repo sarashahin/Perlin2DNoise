{
 "cells": [
  {
   "cell_type": "code",
   "execution_count": 66,
   "metadata": {},
   "outputs": [],
   "source": [
    "import noise\n",
    "import numpy as np\n",
    "from PIL import Image"
   ]
  },
  {
   "cell_type": "code",
   "execution_count": 67,
   "metadata": {},
   "outputs": [],
   "source": [
    "def color_globe(globe):\n",
    "  globe_min = np.min(globe)\n",
    "  globe_max = np.max(globe)\n",
    "  norm_globe = lambda x : (x-globe_min / (globe_max - globe_min)) * 200\n",
    "  return np.vectorize(norm_globe)\n",
    "\n",
    "def get_globe(globe):\n",
    "  norm_globe = color_globe(globe)\n",
    "  globe = norm_globe(globe)\n",
    "  return globe\n",
    "\n"
   ]
  },
  {
   "cell_type": "code",
   "execution_count": 68,
   "metadata": {},
   "outputs": [],
   "source": [
    "shape = (900, 900)\n",
    "scale = 200.0\n",
    "octaves = 6\n",
    "persistence = 0.5\n",
    "lacunarity = 2.0\n",
    "seed = np.random.randint(10, 900)\n",
    "seed = 220"
   ]
  },
  {
   "cell_type": "code",
   "execution_count": 69,
   "metadata": {},
   "outputs": [],
   "source": [
    "globe = np.zeros(shape)      \n",
    "for i in range(shape[0]):\n",
    "  for j in range(shape[1]):\n",
    "   globe[i][j] = noise.pnoise2(i / scale,\n",
    "                              j / scale,\n",
    "                              octaves=octaves,\n",
    "                              persistence=persistence,\n",
    "                              lacunarity=lacunarity,\n",
    "                              repeatx = 900,\n",
    "                              repeaty = 900,\n",
    "                              base = seed)\n",
    "img = Image.fromarray(get_globe(globe))\n",
    "# img.show()\n"
   ]
  },
  {
   "cell_type": "code",
   "execution_count": 70,
   "metadata": {},
   "outputs": [],
   "source": [
    "green = [35, 140, 36]\n",
    "blue = [66, 109, 235]\n",
    "sea_side = [235, 216, 180]\n",
    "mountain = [143, 135, 134]\n",
    "snow = [255, 249, 250]\n",
    "\n",
    "def add_color_globe(globe):\n",
    "  arr_color_globe = np.zeros(globe.shape+(3,))\n",
    "  for i in range (shape[0]):\n",
    "    for j in range(shape[1]):\n",
    "      if globe[i][j] < - 0.08:\n",
    "        arr_color_globe[i][j] = blue\n",
    "      elif globe[i][j] < 0.38:\n",
    "        arr_color_globe[i][j] = mountain\n",
    "      elif globe[i][j] < 0.18:\n",
    "        arr_color_globe[i][j] = green\n",
    "      elif globe[i][j] < 0:\n",
    "        arr_color_globe[i][j] = sea_side\n",
    "      elif globe[i][j] < 1.2:\n",
    "        arr_color_globe[i][j] = snow\n",
    "        \n",
    "  return arr_color_globe\n",
    "arr_color_globe = add_color_globe(globe).astype(dtype = np.uint8)\n",
    "Image.fromarray(arr_color_globe, 'RGB').show()"
   ]
  }
 ],
 "metadata": {
  "interpreter": {
   "hash": "40d3a090f54c6569ab1632332b64b2c03c39dcf918b08424e98f38b5ae0af88f"
  },
  "kernelspec": {
   "display_name": "Python 3.8.8 64-bit ('base': conda)",
   "name": "python3"
  },
  "language_info": {
   "codemirror_mode": {
    "name": "ipython",
    "version": 3
   },
   "file_extension": ".py",
   "mimetype": "text/x-python",
   "name": "python",
   "nbconvert_exporter": "python",
   "pygments_lexer": "ipython3",
   "version": "3.8.8"
  },
  "orig_nbformat": 4
 },
 "nbformat": 4,
 "nbformat_minor": 2
}
